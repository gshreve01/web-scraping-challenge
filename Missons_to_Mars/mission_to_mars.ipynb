{
 "cells": [
  {
   "cell_type": "code",
   "execution_count": 1,
   "metadata": {},
   "outputs": [],
   "source": [
    "# imports for Splinter and Beautiful Soup\n",
    "from splinter import Browser\n",
    "from bs4 import BeautifulSoup\n",
    "from selenium import webdriver\n",
    "import time\n",
    "import pandas as pd"
   ]
  },
  {
   "cell_type": "code",
   "execution_count": 2,
   "metadata": {},
   "outputs": [],
   "source": [
    "#Initialize the Browser\n",
    "# @NOTE: Replace the path with your actual path to the chromedriver\n",
    "executable_path = {'executable_path': 'chromedriver.exe'}\n",
    "browser = Browser('chrome', **executable_path, headless=False)"
   ]
  },
  {
   "cell_type": "code",
   "execution_count": 3,
   "metadata": {},
   "outputs": [],
   "source": [
    "#Get NASA news listings\n",
    "listings = []\n",
    "\n",
    "url = \"https://mars.nasa.gov/news/\"\n",
    "browser.visit(url)\n",
    "\n",
    "attempts = 0\n",
    "haveData = False\n",
    "while attempts < 5 and not haveData:\n",
    "    time.sleep(1)\n",
    "    html = browser.html\n",
    "    soup = BeautifulSoup(html, \"html.parser\")\n",
    "\n",
    "    slides = soup.find_all(\"li\", class_=\"slide\")\n",
    "    if slides:\n",
    "        haveData = True\n",
    "\n",
    "if not haveData:\n",
    "    raise Exception(\"Failed to scrape nasa news site\")\n",
    "\n",
    "for slide in slides:\n",
    "    news_title = slide.find(\"div\", class_=\"content_title\").get_text()\n",
    "    news_p = slide.find(\"div\", class_=\"article_teaser_body\").get_text()\n",
    "\n",
    "    listings.append({\"title\": news_title\n",
    "                , \"paragraph\": news_p})"
   ]
  },
  {
   "cell_type": "code",
   "execution_count": 5,
   "metadata": {},
   "outputs": [
    {
     "name": "stdout",
     "output_type": "stream",
     "text": [
      "{'title': \"The Detective Aboard NASA's Perseverance Rover\", 'paragraph': 'An instrument called SHERLOC will, with the help of its partner WATSON, hunt for signs of ancient life by detecting organic molecules and minerals.'}\n"
     ]
    }
   ],
   "source": [
    "#The latest nasa news feature\n",
    "print(listings[0])"
   ]
  },
  {
   "cell_type": "code",
   "execution_count": 6,
   "metadata": {},
   "outputs": [],
   "source": [
    "#get the nasa featured image\n",
    "base_url = \"https://www.jpl.nasa.gov\"\n",
    "url = f\"{base_url}/spaceimages?search=&category=Mars\"\n",
    "browser.visit(url)\n",
    "\n",
    "attempts = 0\n",
    "haveData = False\n",
    "while attempts < 5 and not haveData:\n",
    "    time.sleep(1)\n",
    "    html = browser.html\n",
    "    soup = BeautifulSoup(html, \"html.parser\")\n",
    "\n",
    "    section = soup.find_all(\"section\", class_=\"main_feature\")[0]\n",
    "    if section:\n",
    "        article = section.find(\"article\")\n",
    "    if article: \n",
    "        style = article[\"style\"]\n",
    "        idx = style.find(\"url('\")\n",
    "        img_text = style[idx+5:]\n",
    "        image = img_text[0:len(img_text) -3]\n",
    "    if image:\n",
    "        haveData = True\n",
    "\n",
    "featured_image = f\"{base_url}{image}\""
   ]
  },
  {
   "cell_type": "code",
   "execution_count": 8,
   "metadata": {},
   "outputs": [
    {
     "name": "stdout",
     "output_type": "stream",
     "text": [
      "https://www.jpl.nasa.gov/spaceimages/images/wallpaper/PIA14579-1920x1200.jpg\n"
     ]
    }
   ],
   "source": [
    "# Featured NASA image URL\n",
    "print(featured_image)"
   ]
  },
  {
   "cell_type": "code",
   "execution_count": 15,
   "metadata": {},
   "outputs": [],
   "source": [
    "# Get Mars weather\n",
    "url = \"https://twitter.com/marswxreport?lang=en\"\n",
    "browser.visit(url)\n",
    "\n",
    "html = browser.html\n",
    "soup = BeautifulSoup(html, \"html.parser\")\n",
    "\n",
    "#Find article with class\n",
    "attempts = 0\n",
    "haveData = False\n",
    "while attempts < 5 and not haveData:\n",
    "    time.sleep(1)\n",
    "    html = browser.html\n",
    "    soup = BeautifulSoup(html, \"html.parser\")\n",
    "    matches = soup.find_all('article', attrs={'role': 'article'})\n",
    "    if matches:\n",
    "        haveData = True\n",
    "\n",
    "#print(matches)\n",
    "# it may not be in the first match\n",
    "weather = None\n",
    "for match in matches:\n",
    "    spans = match.find_all('span')\n",
    "    for span in spans:\n",
    "        # should begin with InSight\n",
    "        text = span.get_text()\n",
    "        if text[0:7] == \"InSight\":\n",
    "            weather = text\n",
    "            break\n",
    "    if weather != None:\n",
    "        break\n"
   ]
  },
  {
   "cell_type": "code",
   "execution_count": 16,
   "metadata": {},
   "outputs": [
    {
     "name": "stdout",
     "output_type": "stream",
     "text": [
      "InSight sol 532 (2020-05-26) low -93.1ºC (-135.7ºF) high -1.1ºC (30.0ºF)\n",
      "winds from the SW at 4.9 m/s (10.9 mph) gusting to 17.7 m/s (39.6 mph)\n",
      "pressure at 7.10 hPa\n"
     ]
    }
   ],
   "source": [
    "# Mars weather\n",
    "print(weather)"
   ]
  },
  {
   "cell_type": "code",
   "execution_count": 17,
   "metadata": {},
   "outputs": [],
   "source": [
    "# Get Mars facts using Panda\n",
    "url = \"https://space-facts.com/mars/\"\n",
    "tables = pd.read_html(url)\n",
    "facts = tables[0]\n",
    "\n",
    "facts_df = pd.DataFrame(facts) \n",
    "facts_df.columns = [\"description\", \"value\"]\n",
    "facts_df.set_index(\"description\", inplace=True)\n",
    "\n",
    "table_html = facts_df.to_html(index=True, header=True)"
   ]
  },
  {
   "cell_type": "code",
   "execution_count": 18,
   "metadata": {},
   "outputs": [
    {
     "name": "stdout",
     "output_type": "stream",
     "text": [
      "<table border=\"1\" class=\"dataframe\">\n",
      "  <thead>\n",
      "    <tr style=\"text-align: right;\">\n",
      "      <th></th>\n",
      "      <th>value</th>\n",
      "    </tr>\n",
      "    <tr>\n",
      "      <th>description</th>\n",
      "      <th></th>\n",
      "    </tr>\n",
      "  </thead>\n",
      "  <tbody>\n",
      "    <tr>\n",
      "      <th>Equatorial Diameter:</th>\n",
      "      <td>6,792 km</td>\n",
      "    </tr>\n",
      "    <tr>\n",
      "      <th>Polar Diameter:</th>\n",
      "      <td>6,752 km</td>\n",
      "    </tr>\n",
      "    <tr>\n",
      "      <th>Mass:</th>\n",
      "      <td>6.39 × 10^23 kg (0.11 Earths)</td>\n",
      "    </tr>\n",
      "    <tr>\n",
      "      <th>Moons:</th>\n",
      "      <td>2 (Phobos &amp; Deimos)</td>\n",
      "    </tr>\n",
      "    <tr>\n",
      "      <th>Orbit Distance:</th>\n",
      "      <td>227,943,824 km (1.38 AU)</td>\n",
      "    </tr>\n",
      "    <tr>\n",
      "      <th>Orbit Period:</th>\n",
      "      <td>687 days (1.9 years)</td>\n",
      "    </tr>\n",
      "    <tr>\n",
      "      <th>Surface Temperature:</th>\n",
      "      <td>-87 to -5 °C</td>\n",
      "    </tr>\n",
      "    <tr>\n",
      "      <th>First Record:</th>\n",
      "      <td>2nd millennium BC</td>\n",
      "    </tr>\n",
      "    <tr>\n",
      "      <th>Recorded By:</th>\n",
      "      <td>Egyptian astronomers</td>\n",
      "    </tr>\n",
      "  </tbody>\n",
      "</table>\n"
     ]
    }
   ],
   "source": [
    "# Mars facts\n",
    "print(table_html)"
   ]
  },
  {
   "cell_type": "code",
   "execution_count": 20,
   "metadata": {},
   "outputs": [],
   "source": [
    "# define a function to get a hemispher image\n",
    "def get_hemispher_image(browser, url, link):\n",
    "    linkurl = f\"{url}/{link}\"\n",
    "    browser.visit(linkurl)\n",
    "    html = browser.html\n",
    "    soup = BeautifulSoup(html, \"html.parser\")   \n",
    "\n",
    "    image = soup.find(\"img\", class_=\"wide-image\") \n",
    "    return image[\"src\"]"
   ]
  },
  {
   "cell_type": "code",
   "execution_count": 21,
   "metadata": {},
   "outputs": [],
   "source": [
    "#get the hemisphers\n",
    "hemispheres = []\n",
    "\n",
    "base_url = \"https://astrogeology.usgs.gov\"\n",
    "url = f\"{base_url}/search/results?q=hemisphere+enhanced&k1=target&v1=Mars\"\n",
    "browser.visit(url)\n",
    "\n",
    "html = browser.html\n",
    "soup = BeautifulSoup(html, \"html.parser\")\n",
    "# Find all items\n",
    "links = []\n",
    "items = soup.find_all(\"div\", class_=\"item\")\n",
    "for item in items: \n",
    "    description = item.find(\"div\", class_=\"description\")      \n",
    "    link = description.find(\"a\", class_=\"product-item\")\n",
    "    links.append(link)\n",
    "\n",
    "for link in links:\n",
    "    title = link.find(\"h3\").get_text()\n",
    "    image_url = get_hemispher_image(browser, base_url, link[\"href\"])\n",
    "    image_url = f\"{base_url}{image_url}\"\n",
    "    hemispheres.append({\"title\": title,\n",
    "                \"img_url\": image_url})"
   ]
  },
  {
   "cell_type": "code",
   "execution_count": 23,
   "metadata": {},
   "outputs": [
    {
     "name": "stdout",
     "output_type": "stream",
     "text": [
      "[{'title': 'Cerberus Hemisphere Enhanced', 'img_url': 'https://astrogeology.usgs.gov/cache/images/f5e372a36edfa389625da6d0cc25d905_cerberus_enhanced.tif_full.jpg'}, {'title': 'Schiaparelli Hemisphere Enhanced', 'img_url': 'https://astrogeology.usgs.gov/cache/images/3778f7b43bbbc89d6e3cfabb3613ba93_schiaparelli_enhanced.tif_full.jpg'}, {'title': 'Syrtis Major Hemisphere Enhanced', 'img_url': 'https://astrogeology.usgs.gov/cache/images/555e6403a6ddd7ba16ddb0e471cadcf7_syrtis_major_enhanced.tif_full.jpg'}, {'title': 'Valles Marineris Hemisphere Enhanced', 'img_url': 'https://astrogeology.usgs.gov/cache/images/b3c7c6c9138f57b4756be9b9c43e3a48_valles_marineris_enhanced.tif_full.jpg'}]\n"
     ]
    }
   ],
   "source": [
    "# Mars hemisphers\n",
    "print(hemispheres)"
   ]
  },
  {
   "cell_type": "code",
   "execution_count": null,
   "metadata": {},
   "outputs": [],
   "source": []
  }
 ],
 "metadata": {
  "kernelspec": {
   "display_name": "Python 3",
   "language": "python",
   "name": "python3"
  },
  "language_info": {
   "codemirror_mode": {
    "name": "ipython",
    "version": 3
   },
   "file_extension": ".py",
   "mimetype": "text/x-python",
   "name": "python",
   "nbconvert_exporter": "python",
   "pygments_lexer": "ipython3",
   "version": "3.7.4"
  }
 },
 "nbformat": 4,
 "nbformat_minor": 4
}
